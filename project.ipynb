{
 "cells": [
  {
   "cell_type": "markdown",
   "metadata": {},
   "source": [
    "# The Project title. Max 41 characters."
   ]
  },
  {
   "cell_type": "code",
   "execution_count": null,
   "metadata": {},
   "outputs": [],
   "source": [
    "# This is a code cell without any tag. You can put convenience code here,\n",
    "# but it won't be included in any way in the final project.\n",
    "# For example, to be able to run tests locally in the notebook\n",
    "# you need to install the following:\n",
    "# pip install nose\n",
    "# pip install git+https://github.com/datacamp/ipython_nose\n",
    "# and then load in the ipython_nose extension like this:\n",
    "%load_ext ipython_nose"
   ]
  },
  {
   "cell_type": "markdown",
   "metadata": {},
   "source": [
    "This is a markdown cell without any tag. You can put text / TODOs / etc. here\n",
    "but it won't be included in any way in the final project.\n",
    "\n",
    "For example, here is the documentation of the format of a DataCamp Project notebook: https://authoring.datacamp.com/projects/projects-format.html"
   ]
  },
  {
   "cell_type": "markdown",
   "metadata": {
    "tags": [
     "type:NotebookTask"
    ]
   },
   "source": [
    "## 1. Here goes the title of the first task (<= 55 chars)"
   ]
  },
  {
   "cell_type": "markdown",
   "metadata": {
    "tags": [
     "@context"
    ]
   },
   "source": [
    "Context / background / story / etc. This will show up in the student's notebook. It should at most have 800 characters and/or 3 paragraphs.\n",
    "\n",
    "You can include images if you put them in the `img` folder. But make sure they have a permissive license.\n",
    "\n",
    "![](img/eclipse.png)"
   ]
  },
  {
   "cell_type": "markdown",
   "metadata": {
    "tags": [
     "@instructions"
    ]
   },
   "source": [
    "The task instructions start with a brief sentence framing the task.\n",
    "\n",
    "- The specific task instructions go in a bullet point list.\n",
    "- One bullet per sub task.\n",
    "- At most 4 bullets.\n",
    "\n",
    "<hr>\n",
    "\n",
    "## Good to know\n",
    "\n",
    "The `@instructions` to the first task should include a \"Good to know\" section where you direct the student to resources that could be useful _throughout_ the Project. This could be external documentation, DataCamp courses and exercises, cheat sheets, Stack Overflow answers, etc. "
   ]
  },
  {
   "cell_type": "markdown",
   "metadata": {
    "tags": [
     "@hint"
    ]
   },
   "source": [
    "This is a hint the student will get if they click the hint button at the bottom of the instructions. It's the last help the student can get, so make it helpful. \n",
    "\n",
    "```\n",
    "# Feel free to include links to documentation.\n",
    "print(\"And code snippets in the hint.\")\n",
    "```"
   ]
  },
  {
   "cell_type": "code",
   "execution_count": null,
   "metadata": {
    "tags": [
     "@sample_code"
    ]
   },
   "outputs": [],
   "source": [
    "# This is the sample code the student will see. It should\n",
    "# consist of up to 10 lines of code and comments, and the\n",
    "# student should have to complete at most 5 lines of code.\n",
    "\n",
    "# Rule of thumb: Each bullet point in @instructions should\n",
    "# correspond to a comment in the @sample_code\n",
    "\n",
    "# Indicate missing code with ...\n",
    "like_this = ...\n",
    "# or when a line or more is required, like this:\n",
    "# ... YOUR CODE FOR TASK 1 ..."
   ]
  },
  {
   "cell_type": "code",
   "execution_count": null,
   "metadata": {
    "tags": [
     "@solution"
    ]
   },
   "outputs": [],
   "source": [
    "# Your solution code. This won't be shown to the student.\n",
    "\n",
    "# The @solution should mirror the corresponding @sample_code,\n",
    "# but with the missing parts filled in.\n",
    "like_this = 'missing part filled in'\n",
    "\n",
    "# It should consist of up to 10 lines of code and comments \n",
    "# and take at most 5 seconds to execute on an average laptop.\n",
    "\n",
    "# Put any files you need to access in the `datasets/` folder and \n",
    "# then reference them with a relative link, like this:\n",
    "import pandas as pd\n",
    "iris = pd.read_csv('datasets/iris.csv')\n",
    "iris.head()"
   ]
  },
  {
   "cell_type": "code",
   "execution_count": null,
   "metadata": {
    "tags": [
     "@tests"
    ]
   },
   "outputs": [],
   "source": [
    "%%nose\n",
    "\n",
    "# one or more tests of the students code. \n",
    "# The @solution should pass the tests.\n",
    "# The purpose of the tests is to try to catch common errors and to \n",
    "# give the student a hint on how to resolve these errors.\n",
    "\n",
    "def test_example():\n",
    "    assert like_this == 'missing part filled in', \\\n",
    "    'The student will see this message if the test fails'"
   ]
  },
  {
   "cell_type": "markdown",
   "metadata": {
    "tags": [
     "type:NotebookTask"
    ]
   },
   "source": [
    "## 2. Here goes the title of the second task (<= 55 chars)"
   ]
  },
  {
   "cell_type": "markdown",
   "metadata": {
    "tags": [
     "@context"
    ]
   },
   "source": [
    "Context / background / story / etc. This will show up in the student's notebook. It should at most have 800 characters and/or 3 paragraphs."
   ]
  },
  {
   "cell_type": "markdown",
   "metadata": {
    "tags": [
     "@instructions"
    ]
   },
   "source": [
    "The task instructions start with a brief sentence framing the task.\n",
    "\n",
    "- The specific task instructions go in a bullet point list.\n",
    "- One bullet per sub task.\n",
    "- At most 4 bullets.\n",
    "\n",
    "<hr>\n",
    "\n",
    "Give more info, context, and links to external documentation under the horizontal ruler. The instructions should at most have 600 characters."
   ]
  },
  {
   "cell_type": "markdown",
   "metadata": {
    "tags": [
     "@hint"
    ]
   },
   "source": [
    "This is a hint the student will get if they click the hint button at the bottom of the instructions. It's the last help the student can get, so make it helpful. \n",
    "\n",
    "```\n",
    "# Feel free to include links to documentation.\n",
    "print(\"And code snippets in the hint.\")\n",
    "```"
   ]
  },
  {
   "cell_type": "code",
   "execution_count": null,
   "metadata": {
    "tags": [
     "@sample_code"
    ]
   },
   "outputs": [],
   "source": [
    "# This is the sample code the student will see. It should\n",
    "# consist of up to 10 lines of code and comments, and the\n",
    "# student should have to complete at most 5 lines of code.\n",
    "\n",
    "# Rule of thumb: Each bullet point in @instructions should\n",
    "# correspond to a comment in the @sample_code\n",
    "\n",
    "# Indicate missing code with ...\n",
    "like_this = ...\n",
    "# or when a line or more is required, like this:\n",
    "# ... YOUR CODE FOR TASK 2 ..."
   ]
  },
  {
   "cell_type": "code",
   "execution_count": null,
   "metadata": {
    "tags": [
     "@solution"
    ]
   },
   "outputs": [],
   "source": [
    "# Your solution code. This won't be shown to the student.\n",
    "\n",
    "# The @solution should mirror the corresponding @sample_code,\n",
    "# but with the missing parts filled in.\n",
    "like_this = 'missing part filled in'\n",
    "\n",
    "# It should consist of up to 10 lines of code and comments \n",
    "# and take at most 5 seconds to execute on an average laptop."
   ]
  },
  {
   "cell_type": "code",
   "execution_count": null,
   "metadata": {
    "tags": [
     "@tests"
    ]
   },
   "outputs": [],
   "source": [
    "%%nose\n",
    "\n",
    "# one or more tests of the students code. \n",
    "# The @solution should pass the tests.\n",
    "# The purpose of the tests is to try to catch common errors and to \n",
    "# give the student a hint on how to resolve these errors.\n",
    "\n",
    "def test_example():\n",
    "    assert like_this == 'missing part filled in', \\\n",
    "    'The student will see this message if the test fails'"
   ]
  },
  {
   "cell_type": "markdown",
   "metadata": {
    "tags": [
     "type:NotebookTask"
    ]
   },
   "source": [
    "## 3. Here goes the title of the third task (<= 55 chars)"
   ]
  },
  {
   "cell_type": "markdown",
   "metadata": {
    "tags": [
     "@context"
    ]
   },
   "source": [
    "Context / background / story / etc. This will show up in the student's notebook. It should at most have 800 characters and/or 3 paragraphs."
   ]
  },
  {
   "cell_type": "markdown",
   "metadata": {
    "tags": [
     "@instructions"
    ]
   },
   "source": [
    "The task instructions start with a brief sentence framing the task.\n",
    "\n",
    "- The specific task instructions go in a bullet point list.\n",
    "- One bullet per sub task.\n",
    "- At most 4 bullets.\n",
    "\n",
    "<hr>\n",
    "\n",
    "Give more info, context, and links to external documentation under the horizontal ruler. The instructions should at most have 600 characters."
   ]
  },
  {
   "cell_type": "markdown",
   "metadata": {
    "tags": [
     "@hint"
    ]
   },
   "source": [
    "This is a hint the student will get if they click the hint button at the bottom of the instructions. It's the last help the student can get, so make it helpful. \n",
    "\n",
    "```\n",
    "# Feel free to include links to documentation.\n",
    "print(\"And code snippets in the hint.\")\n",
    "```"
   ]
  },
  {
   "cell_type": "code",
   "execution_count": null,
   "metadata": {
    "tags": [
     "@sample_code"
    ]
   },
   "outputs": [],
   "source": [
    "# This is the sample code the student will see. It should\n",
    "# consist of up to 10 lines of code and comments, and the\n",
    "# student should have to complete at most 5 lines of code.\n",
    "\n",
    "# Rule of thumb: Each bullet point in @instructions should\n",
    "# correspond to a comment in the @sample_code\n",
    "\n",
    "# Indicate missing code with ...\n",
    "like_this = ...\n",
    "# or when a line or more is required, like this:\n",
    "# ... YOUR CODE FOR TASK 3 ..."
   ]
  },
  {
   "cell_type": "code",
   "execution_count": null,
   "metadata": {
    "tags": [
     "@solution"
    ]
   },
   "outputs": [],
   "source": [
    "# Your solution code. This won't be shown to the student.\n",
    "\n",
    "# The @solution should mirror the corresponding @sample_code,\n",
    "# but with the missing parts filled in.\n",
    "like_this = 'missing part filled in'\n",
    "\n",
    "# It should consist of up to 10 lines of code and comments \n",
    "# and take at most 5 seconds to execute on an average laptop."
   ]
  },
  {
   "cell_type": "code",
   "execution_count": null,
   "metadata": {
    "tags": [
     "@tests"
    ]
   },
   "outputs": [],
   "source": [
    "%%nose\n",
    "\n",
    "# one or more tests of the students code. \n",
    "# The @solution should pass the tests.\n",
    "# The purpose of the tests is to try to catch common errors and to \n",
    "# give the student a hint on how to resolve these errors.\n",
    "\n",
    "def test_example():\n",
    "    assert like_this == 'missing part filled in', \\\n",
    "    'The student will see this message if the test fails'"
   ]
  },
  {
   "cell_type": "markdown",
   "metadata": {
    "tags": [
     "type:NotebookTask"
    ]
   },
   "source": [
    "## 4. Here goes the title of the fourth task (<= 55 chars)"
   ]
  },
  {
   "cell_type": "markdown",
   "metadata": {
    "tags": [
     "@context"
    ]
   },
   "source": [
    "Context / background / story / etc. This will show up in the student's notebook. It should at most have 800 characters and/or 3 paragraphs."
   ]
  },
  {
   "cell_type": "markdown",
   "metadata": {
    "tags": [
     "@instructions"
    ]
   },
   "source": [
    "The task instructions start with a brief sentence framing the task.\n",
    "\n",
    "- The specific task instructions go in a bullet point list.\n",
    "- One bullet per sub task.\n",
    "- At most 4 bullets.\n",
    "\n",
    "<hr>\n",
    "\n",
    "Give more info, context, and links to external documentation under the horizontal ruler. The instructions should at most have 600 characters."
   ]
  },
  {
   "cell_type": "markdown",
   "metadata": {
    "tags": [
     "@hint"
    ]
   },
   "source": [
    "This is a hint the student will get if they click the hint button at the bottom of the instructions. It's the last help the student can get, so make it helpful. \n",
    "\n",
    "```\n",
    "# Feel free to include links to documentation.\n",
    "print(\"And code snippets in the hint.\")\n",
    "```"
   ]
  },
  {
   "cell_type": "code",
   "execution_count": null,
   "metadata": {
    "tags": [
     "@sample_code"
    ]
   },
   "outputs": [],
   "source": [
    "# This is the sample code the student will see. It should\n",
    "# consist of up to 10 lines of code and comments, and the\n",
    "# student should have to complete at most 5 lines of code.\n",
    "\n",
    "# Rule of thumb: Each bullet point in @instructions should\n",
    "# correspond to a comment in the @sample_code\n",
    "\n",
    "# Indicate missing code with ...\n",
    "like_this = ...\n",
    "# or when a line or more is required, like this:\n",
    "# ... YOUR CODE FOR TASK 4 ..."
   ]
  },
  {
   "cell_type": "code",
   "execution_count": null,
   "metadata": {
    "tags": [
     "@solution"
    ]
   },
   "outputs": [],
   "source": [
    "# Your solution code. This won't be shown to the student.\n",
    "\n",
    "# The @solution should mirror the corresponding @sample_code,\n",
    "# but with the missing parts filled in.\n",
    "like_this = 'missing part filled in'\n",
    "\n",
    "# It should consist of up to 10 lines of code and comments \n",
    "# and take at most 5 seconds to execute on an average laptop."
   ]
  },
  {
   "cell_type": "code",
   "execution_count": null,
   "metadata": {
    "tags": [
     "@tests"
    ]
   },
   "outputs": [],
   "source": [
    "%%nose\n",
    "\n",
    "# one or more tests of the students code. \n",
    "# The @solution should pass the tests.\n",
    "# The purpose of the tests is to try to catch common errors and to \n",
    "# give the student a hint on how to resolve these errors.\n",
    "\n",
    "def test_example():\n",
    "    assert like_this == 'missing part filled in', \\\n",
    "    'The student will see this message if the test fails'"
   ]
  },
  {
   "cell_type": "markdown",
   "metadata": {
    "tags": [
     "type:NotebookTask"
    ]
   },
   "source": [
    "## 5. Here goes the title of the fifth task (<= 55 chars)"
   ]
  },
  {
   "cell_type": "markdown",
   "metadata": {
    "tags": [
     "@context"
    ]
   },
   "source": [
    "Context / background / story / etc. This will show up in the student's notebook. It should at most have 800 characters and/or 3 paragraphs."
   ]
  },
  {
   "cell_type": "markdown",
   "metadata": {
    "tags": [
     "@instructions"
    ]
   },
   "source": [
    "The task instructions start with a brief sentence framing the task.\n",
    "\n",
    "- The specific task instructions go in a bullet point list.\n",
    "- One bullet per sub task.\n",
    "- At most 4 bullets.\n",
    "\n",
    "<hr>\n",
    "\n",
    "Give more info, context, and links to external documentation under the horizontal ruler. The instructions should at most have 600 characters."
   ]
  },
  {
   "cell_type": "markdown",
   "metadata": {
    "tags": [
     "@hint"
    ]
   },
   "source": [
    "This is a hint the student will get if they click the hint button at the bottom of the instructions. It's the last help the student can get, so make it helpful. \n",
    "\n",
    "```\n",
    "# Feel free to include links to documentation.\n",
    "print(\"And code snippets in the hint.\")\n",
    "```"
   ]
  },
  {
   "cell_type": "code",
   "execution_count": null,
   "metadata": {
    "tags": [
     "@sample_code"
    ]
   },
   "outputs": [],
   "source": [
    "# This is the sample code the student will see. It should\n",
    "# consist of up to 10 lines of code and comments, and the\n",
    "# student should have to complete at most 5 lines of code.\n",
    "\n",
    "# Rule of thumb: Each bullet point in @instructions should\n",
    "# correspond to a comment in the @sample_code\n",
    "\n",
    "# Indicate missing code with ...\n",
    "like_this = ...\n",
    "# or when a line or more is required, like this:\n",
    "# ... YOUR CODE FOR TASK 5 ..."
   ]
  },
  {
   "cell_type": "code",
   "execution_count": null,
   "metadata": {
    "tags": [
     "@solution"
    ]
   },
   "outputs": [],
   "source": [
    "# Your solution code. This won't be shown to the student.\n",
    "\n",
    "# The @solution should mirror the corresponding @sample_code,\n",
    "# but with the missing parts filled in.\n",
    "like_this = 'missing part filled in'\n",
    "\n",
    "# It should consist of up to 10 lines of code and comments \n",
    "# and take at most 5 seconds to execute on an average laptop."
   ]
  },
  {
   "cell_type": "code",
   "execution_count": null,
   "metadata": {
    "tags": [
     "@tests"
    ]
   },
   "outputs": [],
   "source": [
    "%%nose\n",
    "\n",
    "# one or more tests of the students code. \n",
    "# The @solution should pass the tests.\n",
    "# The purpose of the tests is to try to catch common errors and to \n",
    "# give the student a hint on how to resolve these errors.\n",
    "\n",
    "def test_example():\n",
    "    assert like_this == 'missing part filled in', \\\n",
    "    'The student will see this message if the test fails'"
   ]
  },
  {
   "cell_type": "markdown",
   "metadata": {
    "tags": [
     "type:NotebookTask"
    ]
   },
   "source": [
    "## 6. Here goes the title of the sixth task (<= 55 chars)"
   ]
  },
  {
   "cell_type": "markdown",
   "metadata": {
    "tags": [
     "@context"
    ]
   },
   "source": [
    "Context / background / story / etc. This will show up in the student's notebook. It should at most have 800 characters and/or 3 paragraphs."
   ]
  },
  {
   "cell_type": "markdown",
   "metadata": {
    "tags": [
     "@instructions"
    ]
   },
   "source": [
    "The task instructions start with a brief sentence framing the task.\n",
    "\n",
    "- The specific task instructions go in a bullet point list.\n",
    "- One bullet per sub task.\n",
    "- At most 4 bullets.\n",
    "\n",
    "<hr>\n",
    "\n",
    "Give more info, context, and links to external documentation under the horizontal ruler. The instructions should at most have 600 characters."
   ]
  },
  {
   "cell_type": "markdown",
   "metadata": {
    "tags": [
     "@hint"
    ]
   },
   "source": [
    "This is a hint the student will get if they click the hint button at the bottom of the instructions. It's the last help the student can get, so make it helpful. \n",
    "\n",
    "```\n",
    "# Feel free to include links to documentation.\n",
    "print(\"And code snippets in the hint.\")\n",
    "```"
   ]
  },
  {
   "cell_type": "code",
   "execution_count": null,
   "metadata": {
    "tags": [
     "@sample_code"
    ]
   },
   "outputs": [],
   "source": [
    "# This is the sample code the student will see. It should\n",
    "# consist of up to 10 lines of code and comments, and the\n",
    "# student should have to complete at most 5 lines of code.\n",
    "\n",
    "# Rule of thumb: Each bullet point in @instructions should\n",
    "# correspond to a comment in the @sample_code\n",
    "\n",
    "# Indicate missing code with ...\n",
    "like_this = ...\n",
    "# or when a line or more is required, like this:\n",
    "# ... YOUR CODE FOR TASK 6 ..."
   ]
  },
  {
   "cell_type": "code",
   "execution_count": null,
   "metadata": {
    "tags": [
     "@solution"
    ]
   },
   "outputs": [],
   "source": [
    "# Your solution code. This won't be shown to the student.\n",
    "\n",
    "# The @solution should mirror the corresponding @sample_code,\n",
    "# but with the missing parts filled in.\n",
    "like_this = 'missing part filled in'\n",
    "\n",
    "# It should consist of up to 10 lines of code and comments \n",
    "# and take at most 5 seconds to execute on an average laptop."
   ]
  },
  {
   "cell_type": "code",
   "execution_count": null,
   "metadata": {
    "tags": [
     "@tests"
    ]
   },
   "outputs": [],
   "source": [
    "%%nose\n",
    "\n",
    "# one or more tests of the students code. \n",
    "# The @solution should pass the tests.\n",
    "# The purpose of the tests is to try to catch common errors and to \n",
    "# give the student a hint on how to resolve these errors.\n",
    "\n",
    "def test_example():\n",
    "    assert like_this == 'missing part filled in', \\\n",
    "    'The student will see this message if the test fails'"
   ]
  },
  {
   "cell_type": "markdown",
   "metadata": {
    "tags": [
     "type:NotebookTask"
    ]
   },
   "source": [
    "## 7. Here goes the title of the seventh task (<= 55 chars)"
   ]
  },
  {
   "cell_type": "markdown",
   "metadata": {
    "tags": [
     "@context"
    ]
   },
   "source": [
    "Context / background / story / etc. This will show up in the student's notebook. It should at most have 800 characters and/or 3 paragraphs."
   ]
  },
  {
   "cell_type": "markdown",
   "metadata": {
    "tags": [
     "@instructions"
    ]
   },
   "source": [
    "The task instructions start with a brief sentence framing the task.\n",
    "\n",
    "- The specific task instructions go in a bullet point list.\n",
    "- One bullet per sub task.\n",
    "- At most 4 bullets.\n",
    "\n",
    "<hr>\n",
    "\n",
    "Give more info, context, and links to external documentation under the horizontal ruler. The instructions should at most have 600 characters."
   ]
  },
  {
   "cell_type": "markdown",
   "metadata": {
    "tags": [
     "@hint"
    ]
   },
   "source": [
    "This is a hint the student will get if they click the hint button at the bottom of the instructions. It's the last help the student can get, so make it helpful. \n",
    "\n",
    "```\n",
    "# Feel free to include links to documentation.\n",
    "print(\"And code snippets in the hint.\")\n",
    "```"
   ]
  },
  {
   "cell_type": "code",
   "execution_count": null,
   "metadata": {
    "tags": [
     "@sample_code"
    ]
   },
   "outputs": [],
   "source": [
    "# This is the sample code the student will see. It should\n",
    "# consist of up to 10 lines of code and comments, and the\n",
    "# student should have to complete at most 5 lines of code.\n",
    "\n",
    "# Rule of thumb: Each bullet point in @instructions should\n",
    "# correspond to a comment in the @sample_code\n",
    "\n",
    "# Indicate missing code with ...\n",
    "like_this = ...\n",
    "# or when a line or more is required, like this:\n",
    "# ... YOUR CODE FOR TASK 7 ..."
   ]
  },
  {
   "cell_type": "code",
   "execution_count": null,
   "metadata": {
    "tags": [
     "@solution"
    ]
   },
   "outputs": [],
   "source": [
    "# Your solution code. This won't be shown to the student.\n",
    "\n",
    "# The @solution should mirror the corresponding @sample_code,\n",
    "# but with the missing parts filled in.\n",
    "like_this = 'missing part filled in'\n",
    "\n",
    "# It should consist of up to 10 lines of code and comments \n",
    "# and take at most 5 seconds to execute on an average laptop."
   ]
  },
  {
   "cell_type": "code",
   "execution_count": null,
   "metadata": {
    "tags": [
     "@tests"
    ]
   },
   "outputs": [],
   "source": [
    "%%nose\n",
    "\n",
    "# one or more tests of the students code. \n",
    "# The @solution should pass the tests.\n",
    "# The purpose of the tests is to try to catch common errors and to \n",
    "# give the student a hint on how to resolve these errors.\n",
    "\n",
    "def test_example():\n",
    "    assert like_this == 'missing part filled in', \\\n",
    "    'The student will see this message if the test fails'"
   ]
  },
  {
   "cell_type": "markdown",
   "metadata": {
    "tags": [
     "type:NotebookTask"
    ]
   },
   "source": [
    "## 8. Here goes the title of the eighth task (<= 55 chars)"
   ]
  },
  {
   "cell_type": "markdown",
   "metadata": {
    "tags": [
     "@context"
    ]
   },
   "source": [
    "Context / background / story / etc. This will show up in the student's notebook. It should at most have 800 characters and/or 3 paragraphs."
   ]
  },
  {
   "cell_type": "markdown",
   "metadata": {
    "tags": [
     "@instructions"
    ]
   },
   "source": [
    "The task instructions start with a brief sentence framing the task.\n",
    "\n",
    "- The specific task instructions go in a bullet point list.\n",
    "- One bullet per sub task.\n",
    "- At most 4 bullets.\n",
    "\n",
    "<hr>\n",
    "\n",
    "Give more info, context, and links to external documentation under the horizontal ruler. The instructions should at most have 600 characters."
   ]
  },
  {
   "cell_type": "markdown",
   "metadata": {
    "tags": [
     "@hint"
    ]
   },
   "source": [
    "This is a hint the student will get if they click the hint button at the bottom of the instructions. It's the last help the student can get, so make it helpful. \n",
    "\n",
    "```\n",
    "# Feel free to include links to documentation.\n",
    "print(\"And code snippets in the hint.\")\n",
    "```"
   ]
  },
  {
   "cell_type": "code",
   "execution_count": null,
   "metadata": {
    "tags": [
     "@sample_code"
    ]
   },
   "outputs": [],
   "source": [
    "# This is the sample code the student will see. It should\n",
    "# consist of up to 10 lines of code and comments, and the\n",
    "# student should have to complete at most 5 lines of code.\n",
    "\n",
    "# Rule of thumb: Each bullet point in @instructions should\n",
    "# correspond to a comment in the @sample_code\n",
    "\n",
    "# Indicate missing code with ...\n",
    "like_this = ...\n",
    "# or when a line or more is required, like this:\n",
    "# ... YOUR CODE FOR TASK 8 ..."
   ]
  },
  {
   "cell_type": "code",
   "execution_count": null,
   "metadata": {
    "tags": [
     "@solution"
    ]
   },
   "outputs": [],
   "source": [
    "# Your solution code. This won't be shown to the student.\n",
    "\n",
    "# The @solution should mirror the corresponding @sample_code,\n",
    "# but with the missing parts filled in.\n",
    "like_this = 'missing part filled in'\n",
    "\n",
    "# It should consist of up to 10 lines of code and comments \n",
    "# and take at most 5 seconds to execute on an average laptop."
   ]
  },
  {
   "cell_type": "code",
   "execution_count": null,
   "metadata": {
    "tags": [
     "@tests"
    ]
   },
   "outputs": [],
   "source": [
    "%%nose\n",
    "\n",
    "# one or more tests of the students code. \n",
    "# The @solution should pass the tests.\n",
    "# The purpose of the tests is to try to catch common errors and to \n",
    "# give the student a hint on how to resolve these errors.\n",
    "\n",
    "def test_example():\n",
    "    assert like_this == 'missing part filled in', \\\n",
    "    'The student will see this message if the test fails'"
   ]
  },
  {
   "cell_type": "markdown",
   "metadata": {},
   "source": [
    "*The recommended number of tasks in a DataCamp Project is between 8 and 10, so feel free to add more if necessary. You can't have more than 12 tasks.*"
   ]
  }
 ],
 "metadata": {
  "celltoolbar": "Tags",
  "kernelspec": {
   "display_name": "Python 3",
   "language": "python",
   "name": "python3"
  },
  "language_info": {
   "codemirror_mode": {
    "name": "ipython",
    "version": 3
   },
   "file_extension": ".py",
   "mimetype": "text/x-python",
   "name": "python",
   "nbconvert_exporter": "python",
   "pygments_lexer": "ipython3",
   "version": "3.6.4"
  }
 },
 "nbformat": 4,
 "nbformat_minor": 2
}
